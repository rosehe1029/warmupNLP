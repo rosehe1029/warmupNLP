{
 "cells": [
  {
   "cell_type": "markdown",
   "metadata": {},
   "source": [
    "Long Short Term Mermory network（LSTM）"
   ]
  },
  {
   "cell_type": "markdown",
   "metadata": {},
   "source": [
    "Long Short Term Mermory network（LSTM）是一种特殊的RNNs，可以很好地解决长时依赖问题。\n",
    "\n",
    "理解LSTMs的关键就是memory block（记忆块），主要包含了三个门（forget gate、input gate、output gate）与一个记忆单元（cell）。方框内上方的那条水平线，被称为cell state（单元状态），它就像一个传送带，可以控制信息传递给下一时刻。\n",
    "\n",
    "$f_t=\\sigma (w_f \\cdot [h_{t-1} ,x_t] +b_f  ) $\n",
    "\n",
    "$i_t=\\sigma (w_i \\cdot [h_{t-1} ,x_t] +b_i) $\n",
    "\n",
    "$\\widetilde{C_t}=tanh( w_c \\cdot [h_{t-1} ,x_t] +b_c) $\n",
    "\n",
    "$ C_t=f_t * C_{t-1} + i_t * \\widetilde{C_t} $\n",
    "\n",
    "$o_t=\\sigma (w_o \\cdot [h_{t-1} ,x_t] +b_o) $\n",
    "\n",
    "$h_t= o_t * tanh(C_t)$\n"
   ]
  },
  {
   "cell_type": "code",
   "execution_count": 7,
   "metadata": {},
   "outputs": [
    {
     "ename": "AttributeError",
     "evalue": "module 'keras.api._v2.keras' has no attribute 'model'",
     "output_type": "error",
     "traceback": [
      "\u001b[1;31m---------------------------------------------------------------------------\u001b[0m",
      "\u001b[1;31mAttributeError\u001b[0m                            Traceback (most recent call last)",
      "\u001b[1;32me:\\坚果云\\精益求精\\warmup\\RNNLSTMGRU\\LSTM相关.ipynb Cell 3\u001b[0m in \u001b[0;36m<cell line: 3>\u001b[1;34m()\u001b[0m\n\u001b[0;32m      <a href='vscode-notebook-cell:/e%3A/%E5%9D%9A%E6%9E%9C%E4%BA%91/%E7%B2%BE%E7%9B%8A%E6%B1%82%E7%B2%BE/warmup/RNNLSTMGRU/LSTM%E7%9B%B8%E5%85%B3.ipynb#ch0000004?line=0'>1</a>\u001b[0m \u001b[39mimport\u001b[39;00m \u001b[39mtensorflow\u001b[39;00m \u001b[39mas\u001b[39;00m \u001b[39mtf\u001b[39;00m\n\u001b[1;32m----> <a href='vscode-notebook-cell:/e%3A/%E5%9D%9A%E6%9E%9C%E4%BA%91/%E7%B2%BE%E7%9B%8A%E6%B1%82%E7%B2%BE/warmup/RNNLSTMGRU/LSTM%E7%9B%B8%E5%85%B3.ipynb#ch0000004?line=2'>3</a>\u001b[0m model \u001b[39m=\u001b[39m tf\u001b[39m.\u001b[39;49mkeras\u001b[39m.\u001b[39;49mmodel\u001b[39m.\u001b[39mSequential(\n\u001b[0;32m      <a href='vscode-notebook-cell:/e%3A/%E5%9D%9A%E6%9E%9C%E4%BA%91/%E7%B2%BE%E7%9B%8A%E6%B1%82%E7%B2%BE/warmup/RNNLSTMGRU/LSTM%E7%9B%B8%E5%85%B3.ipynb#ch0000004?line=3'>4</a>\u001b[0m     tf\u001b[39m.\u001b[39mkeras\u001b[39m.\u001b[39mlayers\u001b[39m.\u001b[39mEmbedding(\u001b[39m1000\u001b[39m, \u001b[39m128\u001b[39m),\n\u001b[0;32m      <a href='vscode-notebook-cell:/e%3A/%E5%9D%9A%E6%9E%9C%E4%BA%91/%E7%B2%BE%E7%9B%8A%E6%B1%82%E7%B2%BE/warmup/RNNLSTMGRU/LSTM%E7%9B%B8%E5%85%B3.ipynb#ch0000004?line=4'>5</a>\u001b[0m     tf\u001b[39m.\u001b[39mkeras\u001b[39m.\u001b[39mlayers\u001b[39m.\u001b[39mLSTM(units\u001b[39m=\u001b[39m\u001b[39m64\u001b[39m),\n\u001b[0;32m      <a href='vscode-notebook-cell:/e%3A/%E5%9D%9A%E6%9E%9C%E4%BA%91/%E7%B2%BE%E7%9B%8A%E6%B1%82%E7%B2%BE/warmup/RNNLSTMGRU/LSTM%E7%9B%B8%E5%85%B3.ipynb#ch0000004?line=5'>6</a>\u001b[0m     tf\u001b[39m.\u001b[39mkeras\u001b[39m.\u001b[39mlayers\u001b[39m.\u001b[39mDense(\u001b[39m10\u001b[39m)\n\u001b[0;32m      <a href='vscode-notebook-cell:/e%3A/%E5%9D%9A%E6%9E%9C%E4%BA%91/%E7%B2%BE%E7%9B%8A%E6%B1%82%E7%B2%BE/warmup/RNNLSTMGRU/LSTM%E7%9B%B8%E5%85%B3.ipynb#ch0000004?line=6'>7</a>\u001b[0m )\n\u001b[0;32m      <a href='vscode-notebook-cell:/e%3A/%E5%9D%9A%E6%9E%9C%E4%BA%91/%E7%B2%BE%E7%9B%8A%E6%B1%82%E7%B2%BE/warmup/RNNLSTMGRU/LSTM%E7%9B%B8%E5%85%B3.ipynb#ch0000004?line=7'>8</a>\u001b[0m model\u001b[39m.\u001b[39msummary()\n",
      "\u001b[1;31mAttributeError\u001b[0m: module 'keras.api._v2.keras' has no attribute 'model'"
     ]
    }
   ],
   "source": [
    "import tensorflow as tf\n",
    "\n",
    "model = tf.keras.model.Sequential(\n",
    "    tf.keras.layers.Embedding(1000, 128),\n",
    "    tf.keras.layers.LSTM(units=64),\n",
    "    tf.keras.layers.Dense(10)\n",
    ")\n",
    "model.summary()"
   ]
  },
  {
   "cell_type": "code",
   "execution_count": null,
   "metadata": {},
   "outputs": [],
   "source": [
    "# 支持多行输出\n",
    "from IPython.core.interactiveshell import InteractiveShell\n",
    "InteractiveShell.ast_node_interactivity = 'all' #默认为'last'"
   ]
  },
  {
   "cell_type": "code",
   "execution_count": null,
   "metadata": {},
   "outputs": [],
   "source": [
    "# 导入常用的包\n",
    "import numpy as np\n",
    "from torch import nn,optim\n",
    "from torch.autograd import Variable\n",
    "from torchvision import datasets, transforms\n",
    "from torch.utils.data import DataLoader\n",
    "import torch"
   ]
  },
  {
   "cell_type": "code",
   "execution_count": null,
   "metadata": {},
   "outputs": [
    {
     "name": "stdout",
     "output_type": "stream",
     "text": [
      "Downloading http://yann.lecun.com/exdb/mnist/train-images-idx3-ubyte.gz\n",
      "Downloading http://yann.lecun.com/exdb/mnist/train-images-idx3-ubyte.gz to ./data2/MNIST\\raw\\train-images-idx3-ubyte.gz\n"
     ]
    },
    {
     "name": "stderr",
     "output_type": "stream",
     "text": [
      "9913344it [00:03, 2495600.00it/s]                             \n"
     ]
    },
    {
     "name": "stdout",
     "output_type": "stream",
     "text": [
      "Extracting ./data2/MNIST\\raw\\train-images-idx3-ubyte.gz to ./data2/MNIST\\raw\n",
      "\n",
      "Downloading http://yann.lecun.com/exdb/mnist/train-labels-idx1-ubyte.gz\n",
      "Downloading http://yann.lecun.com/exdb/mnist/train-labels-idx1-ubyte.gz to ./data2/MNIST\\raw\\train-labels-idx1-ubyte.gz\n"
     ]
    },
    {
     "name": "stderr",
     "output_type": "stream",
     "text": [
      "29696it [00:00, 4253749.93it/s]          \n"
     ]
    },
    {
     "name": "stdout",
     "output_type": "stream",
     "text": [
      "Extracting ./data2/MNIST\\raw\\train-labels-idx1-ubyte.gz to ./data2/MNIST\\raw\n",
      "\n",
      "Downloading http://yann.lecun.com/exdb/mnist/t10k-images-idx3-ubyte.gz\n",
      "Downloading http://yann.lecun.com/exdb/mnist/t10k-images-idx3-ubyte.gz to ./data2/MNIST\\raw\\t10k-images-idx3-ubyte.gz\n"
     ]
    },
    {
     "name": "stderr",
     "output_type": "stream",
     "text": [
      "1649664it [00:01, 924636.32it/s]                              \n"
     ]
    },
    {
     "name": "stdout",
     "output_type": "stream",
     "text": [
      "Extracting ./data2/MNIST\\raw\\t10k-images-idx3-ubyte.gz to ./data2/MNIST\\raw\n",
      "\n",
      "Downloading http://yann.lecun.com/exdb/mnist/t10k-labels-idx1-ubyte.gz\n",
      "Downloading http://yann.lecun.com/exdb/mnist/t10k-labels-idx1-ubyte.gz to ./data2/MNIST\\raw\\t10k-labels-idx1-ubyte.gz\n"
     ]
    },
    {
     "name": "stderr",
     "output_type": "stream",
     "text": [
      "5120it [00:00, ?it/s]                   "
     ]
    },
    {
     "name": "stdout",
     "output_type": "stream",
     "text": [
      "Extracting ./data2/MNIST\\raw\\t10k-labels-idx1-ubyte.gz to ./data2/MNIST\\raw\n",
      "\n"
     ]
    },
    {
     "name": "stderr",
     "output_type": "stream",
     "text": [
      "\n",
      "d:\\anaconda\\lib\\site-packages\\torchvision\\datasets\\mnist.py:498: UserWarning: The given NumPy array is not writeable, and PyTorch does not support non-writeable tensors. This means you can write to the underlying (supposedly non-writeable) NumPy array using the tensor. You may want to copy the array to protect its data or make it writeable before converting it to a tensor. This type of warning will be suppressed for the rest of this program. (Triggered internally at  ..\\torch\\csrc\\utils\\tensor_numpy.cpp:180.)\n",
      "  return torch.from_numpy(parsed.astype(m[2], copy=False)).view(*s)\n"
     ]
    }
   ],
   "source": [
    "# 载入数据\n",
    "train_dataset = datasets.MNIST(root = './data2/', # 载入的数据存放的位置\n",
    "                               train = True, # 载入训练集数据\n",
    "                               transform = transforms.ToTensor(), # 将载入进来的数据变成Tensor\n",
    "                               download = True) # 是否下载数据\n",
    "test_dataset = datasets.MNIST(root = './data2/', # 载入的数据存放的位置\n",
    "                               train = False, # 载入测试集数据\n",
    "                               transform = transforms.ToTensor(), # 将载入进来的数据变成Tensor\n",
    "                               download = True) # 是否下载数据"
   ]
  },
  {
   "cell_type": "code",
   "execution_count": null,
   "metadata": {},
   "outputs": [],
   "source": [
    "# 批次大小\n",
    "batch_size = 64\n",
    "\n",
    "# 装载训练集\n",
    "train_loader = DataLoader(dataset=train_dataset,\n",
    "                         batch_size=batch_size,\n",
    "                         shuffle=True)\n",
    "\n",
    "# 装载训练集\n",
    "test_loader = DataLoader(dataset=test_dataset,\n",
    "                         batch_size=batch_size,\n",
    "                         shuffle=True)"
   ]
  },
  {
   "cell_type": "code",
   "execution_count": null,
   "metadata": {},
   "outputs": [],
   "source": [
    "# 定义网络结构\n",
    "class LSTM(nn.Module):\n",
    "    def __init__(self):\n",
    "        super(LSTM, self).__init__()\n",
    "        # 定义LSTM层(相当于隐藏层)\n",
    "        # input_size 表示数据输入特征的大小\n",
    "        # hidden_size 表示LSTM模块的数量\n",
    "        # num_layers 表示隐藏层的层数, 一般设置1-3层就可以了\n",
    "        # batch_first 用于设置数据格式，默认：input(seq_len, batch, feature)\n",
    "        # 当batch_first = True，则input和output数据的格式变为：(batch, seq_len, feature)\n",
    "        self.lstm = torch.nn.LSTM(\n",
    "            input_size = 28,\n",
    "            hidden_size = 64,\n",
    "            num_layers = 1,\n",
    "            batch_first = True\n",
    "        )\n",
    "        # 定义全连接层\n",
    "        # 这里的in_features=64，是因为LSTM层中hidden_size = 64，每一个LSTM块都会输出一个值.\n",
    "        self.out = torch.nn.Linear(in_features=64, out_features=10)\n",
    "        # softmax\n",
    "        self.softmax = torch.nn.Softmax(dim = 1)\n",
    "        \n",
    "        \n",
    "    def forward(self, x):\n",
    "        # 我们要将数据reshape成3维数据(batch, seq_len, feature)\n",
    "        # seq_len表示序列长度\n",
    "        # feature：表示每次传入数据的个数\n",
    "        x = x.view(-1, 28, 28)\n",
    "        # output: 包含每个批次的每个序列的每个LSTM单元的输出结果,是3维[batch, seq_len, hidden_size]\n",
    "        # 虽然LSTM的batch_first = True，但是h_n和c_n的第一个维度还是seq_len\n",
    "        # h_n: [num_layers, batch, hidden_size] 只包含最后一个序列的输出结果\n",
    "        # c_n: [num_layers, batch, hidden_size] 只包含最后一个序列的输出结果\n",
    "        output, (h_n, c_n) = self.lstm(x)\n",
    "        # 如果这里有很多隐藏层，那么我们只需要最后一层的输出结果\n",
    "        output_in_last_timestep = h_n[-1, :, :]\n",
    "        x = self.out(output_in_last_timestep)\n",
    "        x = self.softmax(x)\n",
    "        return x"
   ]
  },
  {
   "cell_type": "code",
   "execution_count": null,
   "metadata": {},
   "outputs": [],
   "source": [
    "LR = 0.0003\n",
    "# 定义模型\n",
    "model = LSTM()\n",
    "# 定义代价函数为交叉熵代价函数\n",
    "mse_loss = nn.CrossEntropyLoss()\n",
    "# 定义优化器Adam\n",
    "optimizer = optim.Adam(model.parameters(), LR)"
   ]
  },
  {
   "cell_type": "code",
   "execution_count": null,
   "metadata": {},
   "outputs": [],
   "source": [
    "def train():\n",
    "    model.train()\n",
    "    for i,data in enumerate(train_loader):\n",
    "        # 获得一个批次的数据和标签\n",
    "        inputs, labels = data\n",
    "        # 获得模型预测结果（64,10）\n",
    "        out = model(inputs)\n",
    "        # 计算loss,交叉熵代价函数out(batch,C), labels(batch)\n",
    "        loss = mse_loss(out, labels)\n",
    "        # 梯度清0\n",
    "        optimizer.zero_grad()\n",
    "        # 计算梯度\n",
    "        loss.backward()\n",
    "        # 修改权值\n",
    "        optimizer.step()\n",
    "\n",
    "def test():\n",
    "    model.eval()\n",
    "    \n",
    "    # 计算训练集准确率\n",
    "    correct = 0\n",
    "    for i,data in enumerate(train_loader):\n",
    "        # 获得一个批次的数据和标签\n",
    "        inputs, labels = data\n",
    "        # 获得模型预测结果（64,10）\n",
    "        out = model(inputs)\n",
    "        # 获得最大值，以及最大值所在的位置\n",
    "        _, predicted = torch.max(out, 1)\n",
    "        # 预测正确的数量\n",
    "        correct += (predicted == labels).sum()\n",
    "    print(\"Train acc:{0}\".format(correct.item()/len(train_dataset)))\n",
    "    \n",
    "    # 计算测试集准确率\n",
    "    correct = 0\n",
    "    for i,data in enumerate(test_loader):\n",
    "        # 获得一个批次的数据和标签\n",
    "        inputs, labels = data\n",
    "        # 获得模型预测结果（64,10）\n",
    "        out = model(inputs)\n",
    "        # 获得最大值，以及最大值所在的位置\n",
    "        _, predicted = torch.max(out, 1)\n",
    "        # 预测正确的数量\n",
    "        correct += (predicted == labels).sum()\n",
    "    print(\"Test acc:{0}\".format(correct.item()/len(test_dataset)))"
   ]
  },
  {
   "cell_type": "code",
   "execution_count": null,
   "metadata": {},
   "outputs": [
    {
     "name": "stdout",
     "output_type": "stream",
     "text": [
      "epoch: 0\n",
      "Train acc:0.78\n",
      "Test acc:0.7796\n",
      "epoch: 1\n",
      "Train acc:0.83265\n",
      "Test acc:0.8359\n",
      "epoch: 2\n",
      "Train acc:0.84785\n",
      "Test acc:0.8491\n",
      "epoch: 3\n",
      "Train acc:0.9138\n",
      "Test acc:0.917\n",
      "epoch: 4\n",
      "Train acc:0.9365\n",
      "Test acc:0.9355\n"
     ]
    }
   ],
   "source": [
    "for epoch in range(5):\n",
    "    print('epoch:',epoch)\n",
    "    train()\n",
    "    test()"
   ]
  },
  {
   "cell_type": "markdown",
   "metadata": {},
   "source": [
    "![图片](E:\\坚果云\\精益求精\\warmup\\RNNLSTMGRU\\lstm.PNG)"
   ]
  },
  {
   "cell_type": "code",
   "execution_count": null,
   "metadata": {},
   "outputs": [],
   "source": [
    "torch.save(model.state_dict(), \"./my_model.pth\")"
   ]
  },
  {
   "cell_type": "code",
   "execution_count": null,
   "metadata": {},
   "outputs": [
    {
     "data": {
      "text/plain": [
       "<All keys matched successfully>"
      ]
     },
     "execution_count": 27,
     "metadata": {},
     "output_type": "execute_result"
    }
   ],
   "source": [
    "model_new = LSTM()\n",
    "# 载入模型\n",
    "model_new.load_state_dict(torch.load(\"./my_model.pth\"))"
   ]
  },
  {
   "cell_type": "code",
   "execution_count": null,
   "metadata": {},
   "outputs": [],
   "source": [
    "from pandas import DataFrame\n",
    "from pandas import Series\n",
    "from pandas import concat\n",
    "from pandas import read_csv\n",
    "from pandas import datetime\n",
    "from sklearn.metrics import mean_squared_error\n",
    "from sklearn.preprocessing import MinMaxScaler\n",
    "from keras.models import Sequential\n",
    "from keras.layers import Dense\n",
    "from keras.layers import LSTM\n",
    "from math import sqrt\n",
    "from matplotlib import pyplot\n",
    "from numpy import array\n",
    " \n",
    " \n",
    "# 加载数据集\n",
    "def parser(x):\n",
    "    return datetime.strptime(x, '%Y/%m/%d')\n",
    " \n",
    " \n",
    "# 将时间序列转换为监督类型的数据序列\n",
    "def series_to_supervised(data, n_in=1, n_out=1, dropnan=True):\n",
    "    n_vars = 1 if type(data) is list else data.shape[1]\n",
    "    df = DataFrame(data)\n",
    "    cols, names = list(), list()\n",
    "    # 这个for循环是用来输入列标题的 var1(t-1)，var1(t)，var1(t+1)，var1(t+2)\n",
    "    for i in range(n_in, 0, -1):\n",
    "        cols.append(df.shift(i))\n",
    "        names += [('var%d(t-%d)' % (j + 1, i)) for j in range(n_vars)]\n",
    "    # 转换为监督型数据的预测序列 每四个一组，对应 var1(t-1)，var1(t)，var1(t+1)，var1(t+2)\n",
    "    for i in range(0, n_out):\n",
    "        cols.append(df.shift(-i))\n",
    "        if i == 0:\n",
    "            names += [('var%d(t)' % (j + 1)) for j in range(n_vars)]\n",
    "        else:\n",
    "            names += [('var%d(t+%d)' % (j + 1, i)) for j in range(n_vars)]\n",
    "    # 拼接数据\n",
    "    agg = concat(cols, axis=1)\n",
    "    agg.columns = names\n",
    "    # 把null值转换为0\n",
    "    if dropnan:\n",
    "        agg.dropna(inplace=True)\n",
    "    print(agg)\n",
    "    return agg\n",
    " \n",
    " \n",
    "# 对传入的数列做差分操作，相邻两值相减\n",
    "def difference(dataset, interval=1):\n",
    "    diff = list()\n",
    "    for i in range(interval, len(dataset)):\n",
    "        value = dataset[i] - dataset[i - interval]\n",
    "        diff.append(value)\n",
    "    return Series(diff)\n",
    " \n",
    " \n",
    "# 将序列转换为用于监督学习的训练和测试集\n",
    "def prepare_data(series, n_test, n_lag, n_seq):\n",
    "    # 提取原始值\n",
    "    raw_values = series.values\n",
    "    # 将数据转换为静态的\n",
    "    diff_series = difference(raw_values, 1)\n",
    "    diff_values = diff_series.values\n",
    "    diff_values = diff_values.reshape(len(diff_values), 1)\n",
    "    # 重新调整数据为（-1,1）之间\n",
    "    scaler = MinMaxScaler(feature_range=(-1, 1))\n",
    "    scaled_values = scaler.fit_transform(diff_values)\n",
    "    scaled_values = scaled_values.reshape(len(scaled_values), 1)\n",
    "    # 转化为有监督的数据X，y\n",
    "    supervised = series_to_supervised(scaled_values, n_lag, n_seq)\n",
    "    supervised_values = supervised.values\n",
    "    # 分割为测试数据和训练数据\n",
    "    train, test = supervised_values[0:-n_test], supervised_values[-n_test:]\n",
    "    return scaler, train, test\n",
    " \n",
    " \n",
    "# 匹配LSTM网络训练数据\n",
    "def fit_lstm(train, n_lag, n_seq, n_batch, nb_epoch, n_neurons):\n",
    "    # 重塑训练数据格式 [samples, timesteps, features]\n",
    "    X, y = train[:, 0:n_lag], train[:, n_lag:]\n",
    "    X = X.reshape(X.shape[0], 1, X.shape[1])\n",
    "    # 配置一个LSTM神经网络，添加网络参数\n",
    "    model = Sequential()\n",
    "    model.add(LSTM(n_neurons, batch_input_shape=(n_batch, X.shape[1], X.shape[2]), stateful=True))\n",
    "    model.add(Dense(y.shape[1]))\n",
    "    model.compile(loss='mean_squared_error', optimizer='adam')\n",
    "    # 调用网络，迭代数据对神经网络进行训练，最后输出训练好的网络模型\n",
    "    for i in range(nb_epoch):\n",
    "        model.fit(X, y, epochs=1, batch_size=n_batch, verbose=0, shuffle=False)\n",
    "        model.reset_states()\n",
    "    return model\n",
    " \n",
    " \n",
    "# 用LSTM做预测\n",
    "def forecast_lstm(model, X, n_batch):\n",
    "    # 重构输入参数 [samples, timesteps, features]\n",
    "    X = X.reshape(1, 1, len(X))\n",
    "    # 开始预测\n",
    "    forecast = model.predict(X, batch_size=n_batch)\n",
    "    # 结果转换成数组\n",
    "    return [x for x in forecast[0, :]]\n",
    " \n",
    " \n",
    "# 利用训练好的网络模型，对测试数据进行预测\n",
    "def make_forecasts(model, n_batch, train, test, n_lag, n_seq):\n",
    "    forecasts = list()\n",
    "    # 预测方式是用一个X值预测出后三步的Y值\n",
    "    for i in range(len(test)):\n",
    "        X, y = test[i, 0:n_lag], test[i, n_lag:]\n",
    "        # 调用训练好的模型预测未来数据\n",
    "        forecast = forecast_lstm(model, X, n_batch)\n",
    "        # 将预测的数据保存\n",
    "        forecasts.append(forecast)\n",
    "    return forecasts\n",
    " \n",
    " \n",
    "# 对预测后的缩放值（-1，1）进行逆变换\n",
    "def inverse_difference(last_ob, forecast):\n",
    "    # invert first forecast\n",
    "    inverted = list()\n",
    "    inverted.append(forecast[0] + last_ob)\n",
    "    # propagate difference forecast using inverted first value\n",
    "    for i in range(1, len(forecast)):\n",
    "        inverted.append(forecast[i] + inverted[i - 1])\n",
    "    return inverted\n",
    " \n",
    " \n",
    "# 对预测完成的数据进行逆变换\n",
    "def inverse_transform(series, forecasts, scaler, n_test):\n",
    "    inverted = list()\n",
    "    for i in range(len(forecasts)):\n",
    "        # create array from forecast\n",
    "        forecast = array(forecasts[i])\n",
    "        forecast = forecast.reshape(1, len(forecast))\n",
    "        # 将预测后的数据缩放逆转换\n",
    "        inv_scale = scaler.inverse_transform(forecast)\n",
    "        inv_scale = inv_scale[0, :]\n",
    "        # invert differencing\n",
    "        index = len(series) - n_test + i - 1\n",
    "        last_ob = series.values[index]\n",
    "        # 将预测后的数据差值逆转换\n",
    "        inv_diff = inverse_difference(last_ob, inv_scale)\n",
    "        # 保存数据\n",
    "        inverted.append(inv_diff)\n",
    "    return inverted\n",
    " \n",
    " \n",
    "# 评估每个预测时间步的RMSE\n",
    "def evaluate_forecasts(test, forecasts, n_lag, n_seq):\n",
    "    for i in range(n_seq):\n",
    "        actual = [row[i] for row in test]\n",
    "        predicted = [forecast[i] for forecast in forecasts]\n",
    "        rmse = sqrt(mean_squared_error(actual, predicted))\n",
    "        print('t+%d RMSE: %f' % ((i + 1), rmse))\n",
    " \n",
    " \n",
    "# 在原始数据集的上下文中绘制预测图\n",
    "def plot_forecasts(series, forecasts, n_test):\n",
    "    # plot the entire dataset in blue\n",
    "    pyplot.plot(series.values)\n",
    "    # plot the forecasts in red\n",
    "    for i in range(len(forecasts)):\n",
    "        off_s = len(series) - n_test + i - 1\n",
    "        off_e = off_s + len(forecasts[i]) + 1\n",
    "        xaxis = [x for x in range(off_s, off_e)]\n",
    "        yaxis = [series.values[off_s]] + forecasts[i]\n",
    "        pyplot.plot(xaxis, yaxis, color='red')\n",
    "    # show the plot\n",
    "    pyplot.show()\n",
    " \n",
    " \n",
    "# 加载数据\n",
    "series = read_csv('./shampoo-sales.csv', header=0, parse_dates=[0], index_col=0, squeeze=True, date_parser=parser)\n",
    "# 配置网络信息\n",
    "n_lag = 1\n",
    "n_seq = 3\n",
    "n_test = 10\n",
    "n_epochs = 1500\n",
    "n_batch = 1\n",
    "n_neurons = 1\n",
    "# 准备数据\n",
    "scaler, train, test = prepare_data(series, n_test, n_lag, n_seq)\n",
    "# 准备预测模型\n",
    "model = fit_lstm(train, n_lag, n_seq, n_batch, n_epochs, n_neurons)\n",
    "# 开始预测\n",
    "forecasts = make_forecasts(model, n_batch, train, test, n_lag, n_seq)\n",
    "# 逆转换训练数据和预测数据\n",
    "forecasts = inverse_transform(series, forecasts, scaler, n_test + 2)\n",
    "# 逆转换测试数据\n",
    "actual = [row[n_lag:] for row in test]\n",
    "actual = inverse_transform(series, actual, scaler, n_test + 2)\n",
    "# 比较预测数据和测试数据，计算两者之间的损失值\n",
    "evaluate_forecasts(actual, forecasts, n_lag, n_seq)\n",
    "# 画图\n",
    "plot_forecasts(series, forecasts, n_test + 2)"
   ]
  },
  {
   "cell_type": "code",
   "execution_count": null,
   "metadata": {},
   "outputs": [
    {
     "name": "stdout",
     "output_type": "stream",
     "text": [
      "                     pollution  dew  temp   press wnd_dir  wnd_spd  snow  rain\n",
      "date                                                                          \n",
      "2010-01-02 00:00:00      129.0  -16  -4.0  1020.0      SE     1.79     0     0\n",
      "2010-01-02 01:00:00      148.0  -15  -4.0  1020.0      SE     2.68     0     0\n",
      "2010-01-02 02:00:00      159.0  -11  -5.0  1021.0      SE     3.57     0     0\n",
      "2010-01-02 03:00:00      181.0   -7  -5.0  1022.0      SE     5.36     1     0\n",
      "2010-01-02 04:00:00      138.0   -7  -5.0  1022.0      SE     6.25     2     0\n"
     ]
    }
   ],
   "source": [
    "from pandas import read_csv\n",
    "from datetime import datetime\n",
    "# load data\n",
    "def parse(x):\n",
    "    return datetime.strptime(x, '%Y %m %d %H')\n",
    "dataset = read_csv('./raw.csv',  parse_dates = [['year', 'month', 'day', 'hour']], index_col=0, date_parser=parse)\n",
    "dataset.drop('No', axis=1, inplace=True)\n",
    "# manually specify column names\n",
    "dataset.columns = ['pollution', 'dew', 'temp', 'press', 'wnd_dir', 'wnd_spd', 'snow', 'rain']\n",
    "dataset.index.name = 'date'\n",
    "# mark all NA values with 0\n",
    "dataset['pollution'].fillna(0, inplace=True)\n",
    "# drop the first 24 hours\n",
    "dataset = dataset[24:]\n",
    "# summarize first 5 rows\n",
    "print(dataset.head(5))\n",
    "# save to file\n",
    "dataset.to_csv('pollution.csv')"
   ]
  },
  {
   "cell_type": "code",
   "execution_count": null,
   "metadata": {},
   "outputs": [
    {
     "data": {
      "text/plain": [
       "<Figure size 432x288 with 0 Axes>"
      ]
     },
     "execution_count": 30,
     "metadata": {},
     "output_type": "execute_result"
    },
    {
     "ename": "",
     "evalue": "",
     "output_type": "error",
     "traceback": [
      "\u001b[1;31mCanceled future for execute_request message before replies were done"
     ]
    },
    {
     "ename": "",
     "evalue": "",
     "output_type": "error",
     "traceback": [
      "\u001b[1;31mThe Kernel crashed while executing code in the the current cell or a previous cell. Please review the code in the cell(s) to identify a possible cause of the failure. Click <a href='https://aka.ms/vscodeJupyterKernelCrash'>here</a> for more info. View Jupyter <a href='command:jupyter.viewOutput'>log</a> for further details."
     ]
    }
   ],
   "source": [
    "from pandas import read_csv\n",
    "from matplotlib import pyplot\n",
    "# load dataset\n",
    "dataset = read_csv('pollution.csv', header=0, index_col=0)\n",
    "values = dataset.values\n",
    "# specify columns to plot\n",
    "groups = [0, 1, 2, 3, 5, 6, 7]\n",
    "i = 1\n",
    "# plot each column\n",
    "pyplot.figure()\n",
    "for group in groups:\n",
    "    pyplot.subplot(len(groups), 1, i)\n",
    "    pyplot.plot(values[:, group])\n",
    "    pyplot.title(dataset.columns[group], y=0.5, loc='right')\n",
    "    i += 1\n",
    "pyplot.show()"
   ]
  },
  {
   "cell_type": "code",
   "execution_count": null,
   "metadata": {},
   "outputs": [],
   "source": [
    "from pandas import read_csv\n",
    "from matplotlib import pyplot\n",
    "# load dataset\n",
    "dataset = read_csv('pollution.csv', header=0, index_col=0)\n",
    "values = dataset.values\n",
    "# specify columns to plot\n",
    "groups = [0, 1, 2, 3, 5, 6, 7]\n",
    "i = 1\n",
    "# plot each column\n",
    "pyplot.figure()\n",
    "for group in groups:\n",
    "    pyplot.subplot(len(groups), 1, i)\n",
    "    pyplot.plot(values[:, group])\n",
    "    pyplot.title(dataset.columns[group], y=0.5, loc='right')\n",
    "    i += 1\n",
    "pyplot.show()"
   ]
  },
  {
   "cell_type": "code",
   "execution_count": null,
   "metadata": {},
   "outputs": [
    {
     "ename": "NameError",
     "evalue": "name 'reframed' is not defined",
     "output_type": "error",
     "traceback": [
      "\u001b[1;31m---------------------------------------------------------------------------\u001b[0m",
      "\u001b[1;31mNameError\u001b[0m                                 Traceback (most recent call last)",
      "\u001b[1;32me:\\坚果云\\精益求精\\warmup\\RNNLSTMGRU\\LSTM相关.ipynb Cell 19\u001b[0m in \u001b[0;36m<cell line: 2>\u001b[1;34m()\u001b[0m\n\u001b[0;32m      <a href='vscode-notebook-cell:/e%3A/%E5%9D%9A%E6%9E%9C%E4%BA%91/%E7%B2%BE%E7%9B%8A%E6%B1%82%E7%B2%BE/warmup/RNNLSTMGRU/LSTM%E7%9B%B8%E5%85%B3.ipynb#ch0000022?line=0'>1</a>\u001b[0m \u001b[39m# split into train and test sets\u001b[39;00m\n\u001b[1;32m----> <a href='vscode-notebook-cell:/e%3A/%E5%9D%9A%E6%9E%9C%E4%BA%91/%E7%B2%BE%E7%9B%8A%E6%B1%82%E7%B2%BE/warmup/RNNLSTMGRU/LSTM%E7%9B%B8%E5%85%B3.ipynb#ch0000022?line=1'>2</a>\u001b[0m values \u001b[39m=\u001b[39m reframed\u001b[39m.\u001b[39mvalues\n\u001b[0;32m      <a href='vscode-notebook-cell:/e%3A/%E5%9D%9A%E6%9E%9C%E4%BA%91/%E7%B2%BE%E7%9B%8A%E6%B1%82%E7%B2%BE/warmup/RNNLSTMGRU/LSTM%E7%9B%B8%E5%85%B3.ipynb#ch0000022?line=2'>3</a>\u001b[0m n_train_hours \u001b[39m=\u001b[39m \u001b[39m365\u001b[39m \u001b[39m*\u001b[39m \u001b[39m24\u001b[39m\n\u001b[0;32m      <a href='vscode-notebook-cell:/e%3A/%E5%9D%9A%E6%9E%9C%E4%BA%91/%E7%B2%BE%E7%9B%8A%E6%B1%82%E7%B2%BE/warmup/RNNLSTMGRU/LSTM%E7%9B%B8%E5%85%B3.ipynb#ch0000022?line=3'>4</a>\u001b[0m train \u001b[39m=\u001b[39m values[:n_train_hours, :]\n",
      "\u001b[1;31mNameError\u001b[0m: name 'reframed' is not defined"
     ]
    }
   ],
   "source": [
    "# split into train and test sets\n",
    "values = reframed.values\n",
    "n_train_hours = 365 * 24\n",
    "train = values[:n_train_hours, :]\n",
    "test = values[n_train_hours:, :]\n",
    "# split into input and outputs\n",
    "train_X, train_y = train[:, :-1], train[:, -1]\n",
    "test_X, test_y = test[:, :-1], test[:, -1]\n",
    "# reshape input to be 3D [samples, timesteps, features]\n",
    "train_X = train_X.reshape((train_X.shape[0], 1, train_X.shape[1]))\n",
    "test_X = test_X.reshape((test_X.shape[0], 1, test_X.shape[1]))\n",
    "print(train_X.shape, train_y.shape, test_X.shape, test_y.shape)"
   ]
  },
  {
   "cell_type": "code",
   "execution_count": null,
   "metadata": {},
   "outputs": [
    {
     "ename": "NameError",
     "evalue": "name 'reframed' is not defined",
     "output_type": "error",
     "traceback": [
      "\u001b[1;31m---------------------------------------------------------------------------\u001b[0m",
      "\u001b[1;31mNameError\u001b[0m                                 Traceback (most recent call last)",
      "\u001b[1;32me:\\坚果云\\精益求精\\warmup\\RNNLSTMGRU\\LSTM相关.ipynb Cell 20\u001b[0m in \u001b[0;36m<cell line: 2>\u001b[1;34m()\u001b[0m\n\u001b[0;32m      <a href='vscode-notebook-cell:/e%3A/%E5%9D%9A%E6%9E%9C%E4%BA%91/%E7%B2%BE%E7%9B%8A%E6%B1%82%E7%B2%BE/warmup/RNNLSTMGRU/LSTM%E7%9B%B8%E5%85%B3.ipynb#ch0000023?line=0'>1</a>\u001b[0m \u001b[39m# split into train and test sets\u001b[39;00m\n\u001b[1;32m----> <a href='vscode-notebook-cell:/e%3A/%E5%9D%9A%E6%9E%9C%E4%BA%91/%E7%B2%BE%E7%9B%8A%E6%B1%82%E7%B2%BE/warmup/RNNLSTMGRU/LSTM%E7%9B%B8%E5%85%B3.ipynb#ch0000023?line=1'>2</a>\u001b[0m values \u001b[39m=\u001b[39m reframed\u001b[39m.\u001b[39mvalues\n\u001b[0;32m      <a href='vscode-notebook-cell:/e%3A/%E5%9D%9A%E6%9E%9C%E4%BA%91/%E7%B2%BE%E7%9B%8A%E6%B1%82%E7%B2%BE/warmup/RNNLSTMGRU/LSTM%E7%9B%B8%E5%85%B3.ipynb#ch0000023?line=2'>3</a>\u001b[0m n_train_hours \u001b[39m=\u001b[39m \u001b[39m365\u001b[39m \u001b[39m*\u001b[39m \u001b[39m24\u001b[39m\n\u001b[0;32m      <a href='vscode-notebook-cell:/e%3A/%E5%9D%9A%E6%9E%9C%E4%BA%91/%E7%B2%BE%E7%9B%8A%E6%B1%82%E7%B2%BE/warmup/RNNLSTMGRU/LSTM%E7%9B%B8%E5%85%B3.ipynb#ch0000023?line=3'>4</a>\u001b[0m train \u001b[39m=\u001b[39m values[:n_train_hours, :]\n",
      "\u001b[1;31mNameError\u001b[0m: name 'reframed' is not defined"
     ]
    }
   ],
   "source": [
    "# split into train and test sets\n",
    "values = reframed.values\n",
    "n_train_hours = 365 * 24\n",
    "train = values[:n_train_hours, :]\n",
    "test = values[n_train_hours:, :]\n",
    "# split into input and outputs\n",
    "train_X, train_y = train[:, :-1], train[:, -1]\n",
    "test_X, test_y = test[:, :-1], test[:, -1]\n",
    "# reshape input to be 3D [samples, timesteps, features]\n",
    "train_X = train_X.reshape((train_X.shape[0], 1, train_X.shape[1]))\n",
    "test_X = test_X.reshape((test_X.shape[0], 1, test_X.shape[1]))\n",
    "print(train_X.shape, train_y.shape, test_X.shape, test_y.shape)"
   ]
  },
  {
   "cell_type": "code",
   "execution_count": null,
   "metadata": {},
   "outputs": [
    {
     "ename": "NameError",
     "evalue": "name 'Sequential' is not defined",
     "output_type": "error",
     "traceback": [
      "\u001b[1;31m---------------------------------------------------------------------------\u001b[0m",
      "\u001b[1;31mNameError\u001b[0m                                 Traceback (most recent call last)",
      "\u001b[1;32me:\\坚果云\\精益求精\\warmup\\RNNLSTMGRU\\LSTM相关.ipynb Cell 21\u001b[0m in \u001b[0;36m<cell line: 2>\u001b[1;34m()\u001b[0m\n\u001b[0;32m      <a href='vscode-notebook-cell:/e%3A/%E5%9D%9A%E6%9E%9C%E4%BA%91/%E7%B2%BE%E7%9B%8A%E6%B1%82%E7%B2%BE/warmup/RNNLSTMGRU/LSTM%E7%9B%B8%E5%85%B3.ipynb#ch0000024?line=0'>1</a>\u001b[0m \u001b[39m# design network\u001b[39;00m\n\u001b[1;32m----> <a href='vscode-notebook-cell:/e%3A/%E5%9D%9A%E6%9E%9C%E4%BA%91/%E7%B2%BE%E7%9B%8A%E6%B1%82%E7%B2%BE/warmup/RNNLSTMGRU/LSTM%E7%9B%B8%E5%85%B3.ipynb#ch0000024?line=1'>2</a>\u001b[0m model \u001b[39m=\u001b[39m Sequential()\n\u001b[0;32m      <a href='vscode-notebook-cell:/e%3A/%E5%9D%9A%E6%9E%9C%E4%BA%91/%E7%B2%BE%E7%9B%8A%E6%B1%82%E7%B2%BE/warmup/RNNLSTMGRU/LSTM%E7%9B%B8%E5%85%B3.ipynb#ch0000024?line=2'>3</a>\u001b[0m model\u001b[39m.\u001b[39madd(LSTM(\u001b[39m50\u001b[39m, input_shape\u001b[39m=\u001b[39m(train_X\u001b[39m.\u001b[39mshape[\u001b[39m1\u001b[39m], train_X\u001b[39m.\u001b[39mshape[\u001b[39m2\u001b[39m])))\n\u001b[0;32m      <a href='vscode-notebook-cell:/e%3A/%E5%9D%9A%E6%9E%9C%E4%BA%91/%E7%B2%BE%E7%9B%8A%E6%B1%82%E7%B2%BE/warmup/RNNLSTMGRU/LSTM%E7%9B%B8%E5%85%B3.ipynb#ch0000024?line=3'>4</a>\u001b[0m model\u001b[39m.\u001b[39madd(Dense(\u001b[39m1\u001b[39m))\n",
      "\u001b[1;31mNameError\u001b[0m: name 'Sequential' is not defined"
     ]
    }
   ],
   "source": [
    "# design network\n",
    "model = Sequential()\n",
    "model.add(LSTM(50, input_shape=(train_X.shape[1], train_X.shape[2])))\n",
    "model.add(Dense(1))\n",
    "model.compile(loss='mae', optimizer='adam')\n",
    "# fit network\n",
    "history = model.fit(train_X, train_y, epochs=50, batch_size=72, validation_data=(test_X, test_y), verbose=2, shuffle=False)\n",
    "# plot history\n",
    "pyplot.plot(history.history['loss'], label='train')\n",
    "pyplot.plot(history.history['val_loss'], label='test')\n",
    "pyplot.legend()\n",
    "pyplot.show()\n",
    " \n",
    "# design network\n",
    "model = Sequential()\n",
    "model.add(LSTM(50, input_shape=(train_X.shape[1], train_X.shape[2])))\n",
    "model.add(Dense(1))\n",
    "model.compile(loss='mae', optimizer='adam')\n",
    "# fit network\n",
    "history = model.fit(train_X, train_y, epochs=50, batch_size=72, validation_data=(test_X, test_y), verbose=2, shuffle=False)\n",
    "# plot history\n",
    "pyplot.plot(history.history['loss'], label='train')\n",
    "pyplot.plot(history.history['val_loss'], label='test')\n",
    "pyplot.legend()\n",
    "pyplot.show()"
   ]
  },
  {
   "cell_type": "code",
   "execution_count": null,
   "metadata": {},
   "outputs": [
    {
     "ename": "NameError",
     "evalue": "name 'model' is not defined",
     "output_type": "error",
     "traceback": [
      "\u001b[1;31m---------------------------------------------------------------------------\u001b[0m",
      "\u001b[1;31mNameError\u001b[0m                                 Traceback (most recent call last)",
      "\u001b[1;32me:\\坚果云\\精益求精\\warmup\\RNNLSTMGRU\\LSTM相关.ipynb Cell 22\u001b[0m in \u001b[0;36m<cell line: 2>\u001b[1;34m()\u001b[0m\n\u001b[0;32m      <a href='vscode-notebook-cell:/e%3A/%E5%9D%9A%E6%9E%9C%E4%BA%91/%E7%B2%BE%E7%9B%8A%E6%B1%82%E7%B2%BE/warmup/RNNLSTMGRU/LSTM%E7%9B%B8%E5%85%B3.ipynb#ch0000025?line=0'>1</a>\u001b[0m \u001b[39m# make a prediction\u001b[39;00m\n\u001b[1;32m----> <a href='vscode-notebook-cell:/e%3A/%E5%9D%9A%E6%9E%9C%E4%BA%91/%E7%B2%BE%E7%9B%8A%E6%B1%82%E7%B2%BE/warmup/RNNLSTMGRU/LSTM%E7%9B%B8%E5%85%B3.ipynb#ch0000025?line=1'>2</a>\u001b[0m yhat \u001b[39m=\u001b[39m model\u001b[39m.\u001b[39mpredict(test_X)\n\u001b[0;32m      <a href='vscode-notebook-cell:/e%3A/%E5%9D%9A%E6%9E%9C%E4%BA%91/%E7%B2%BE%E7%9B%8A%E6%B1%82%E7%B2%BE/warmup/RNNLSTMGRU/LSTM%E7%9B%B8%E5%85%B3.ipynb#ch0000025?line=2'>3</a>\u001b[0m test_X \u001b[39m=\u001b[39m test_X\u001b[39m.\u001b[39mreshape((test_X\u001b[39m.\u001b[39mshape[\u001b[39m0\u001b[39m], test_X\u001b[39m.\u001b[39mshape[\u001b[39m2\u001b[39m]))\n\u001b[0;32m      <a href='vscode-notebook-cell:/e%3A/%E5%9D%9A%E6%9E%9C%E4%BA%91/%E7%B2%BE%E7%9B%8A%E6%B1%82%E7%B2%BE/warmup/RNNLSTMGRU/LSTM%E7%9B%B8%E5%85%B3.ipynb#ch0000025?line=3'>4</a>\u001b[0m \u001b[39m# invert scaling for forecast\u001b[39;00m\n",
      "\u001b[1;31mNameError\u001b[0m: name 'model' is not defined"
     ]
    }
   ],
   "source": [
    "# make a prediction\n",
    "yhat = model.predict(test_X)\n",
    "test_X = test_X.reshape((test_X.shape[0], test_X.shape[2]))\n",
    "# invert scaling for forecast\n",
    "inv_yhat = concatenate((yhat, test_X[:, 1:]), axis=1)\n",
    "inv_yhat = scaler.inverse_transform(inv_yhat)\n",
    "inv_yhat = inv_yhat[:,0]\n",
    "# invert scaling for actual\n",
    "test_y = test_y.reshape((len(test_y), 1))\n",
    "inv_y = concatenate((test_y, test_X[:, 1:]), axis=1)\n",
    "inv_y = scaler.inverse_transform(inv_y)\n",
    "inv_y = inv_y[:,0]\n",
    "# calculate RMSE\n",
    "rmse = sqrt(mean_squared_error(inv_y, inv_yhat))\n",
    "print('Test RMSE: %.3f' % rmse)"
   ]
  },
  {
   "cell_type": "code",
   "execution_count": null,
   "metadata": {},
   "outputs": [
    {
     "name": "stdout",
     "output_type": "stream",
     "text": [
      "   var1(t-1)  var2(t-1)  var3(t-1)  var4(t-1)  var5(t-1)  var6(t-1)  \\\n",
      "1   0.129779   0.352941   0.245902   0.527273   0.666667   0.002290   \n",
      "2   0.148893   0.367647   0.245902   0.527273   0.666667   0.003811   \n",
      "3   0.159960   0.426471   0.229508   0.545454   0.666667   0.005332   \n",
      "4   0.182093   0.485294   0.229508   0.563637   0.666667   0.008391   \n",
      "5   0.138833   0.485294   0.229508   0.563637   0.666667   0.009912   \n",
      "\n",
      "   var7(t-1)  var8(t-1)   var1(t)  \n",
      "1   0.000000        0.0  0.148893  \n",
      "2   0.000000        0.0  0.159960  \n",
      "3   0.000000        0.0  0.182093  \n",
      "4   0.037037        0.0  0.138833  \n",
      "5   0.074074        0.0  0.109658  \n",
      "(8760, 1, 8) (8760,) (35039, 1, 8) (35039,)\n",
      "Epoch 1/50\n",
      "122/122 - 9s - loss: 0.0588 - val_loss: 0.0507 - 9s/epoch - 75ms/step\n",
      "Epoch 2/50\n",
      "122/122 - 2s - loss: 0.0395 - val_loss: 0.0463 - 2s/epoch - 14ms/step\n",
      "Epoch 3/50\n",
      "122/122 - 2s - loss: 0.0207 - val_loss: 0.0368 - 2s/epoch - 14ms/step\n",
      "Epoch 4/50\n",
      "122/122 - 2s - loss: 0.0161 - val_loss: 0.0248 - 2s/epoch - 13ms/step\n",
      "Epoch 5/50\n",
      "122/122 - 2s - loss: 0.0151 - val_loss: 0.0174 - 2s/epoch - 13ms/step\n",
      "Epoch 6/50\n",
      "122/122 - 2s - loss: 0.0150 - val_loss: 0.0159 - 2s/epoch - 13ms/step\n",
      "Epoch 7/50\n",
      "122/122 - 2s - loss: 0.0150 - val_loss: 0.0155 - 2s/epoch - 13ms/step\n",
      "Epoch 8/50\n",
      "122/122 - 2s - loss: 0.0149 - val_loss: 0.0151 - 2s/epoch - 13ms/step\n",
      "Epoch 9/50\n",
      "122/122 - 2s - loss: 0.0149 - val_loss: 0.0147 - 2s/epoch - 14ms/step\n",
      "Epoch 10/50\n",
      "122/122 - 2s - loss: 0.0148 - val_loss: 0.0144 - 2s/epoch - 13ms/step\n",
      "Epoch 11/50\n",
      "122/122 - 2s - loss: 0.0146 - val_loss: 0.0140 - 2s/epoch - 14ms/step\n",
      "Epoch 12/50\n",
      "122/122 - 2s - loss: 0.0146 - val_loss: 0.0140 - 2s/epoch - 13ms/step\n",
      "Epoch 13/50\n",
      "122/122 - 2s - loss: 0.0147 - val_loss: 0.0140 - 2s/epoch - 14ms/step\n",
      "Epoch 14/50\n",
      "122/122 - 2s - loss: 0.0146 - val_loss: 0.0139 - 2s/epoch - 13ms/step\n",
      "Epoch 15/50\n",
      "122/122 - 2s - loss: 0.0146 - val_loss: 0.0138 - 2s/epoch - 14ms/step\n",
      "Epoch 16/50\n",
      "122/122 - 2s - loss: 0.0146 - val_loss: 0.0137 - 2s/epoch - 13ms/step\n",
      "Epoch 17/50\n",
      "122/122 - 2s - loss: 0.0145 - val_loss: 0.0136 - 2s/epoch - 14ms/step\n",
      "Epoch 18/50\n",
      "122/122 - 2s - loss: 0.0145 - val_loss: 0.0135 - 2s/epoch - 13ms/step\n",
      "Epoch 19/50\n",
      "122/122 - 2s - loss: 0.0145 - val_loss: 0.0135 - 2s/epoch - 13ms/step\n",
      "Epoch 20/50\n",
      "122/122 - 2s - loss: 0.0145 - val_loss: 0.0134 - 2s/epoch - 14ms/step\n",
      "Epoch 21/50\n",
      "122/122 - 2s - loss: 0.0145 - val_loss: 0.0134 - 2s/epoch - 13ms/step\n",
      "Epoch 22/50\n",
      "122/122 - 2s - loss: 0.0145 - val_loss: 0.0134 - 2s/epoch - 14ms/step\n",
      "Epoch 23/50\n",
      "122/122 - 2s - loss: 0.0145 - val_loss: 0.0133 - 2s/epoch - 13ms/step\n",
      "Epoch 24/50\n",
      "122/122 - 2s - loss: 0.0145 - val_loss: 0.0134 - 2s/epoch - 15ms/step\n",
      "Epoch 25/50\n",
      "122/122 - 1s - loss: 0.0145 - val_loss: 0.0134 - 1s/epoch - 12ms/step\n",
      "Epoch 26/50\n",
      "122/122 - 2s - loss: 0.0145 - val_loss: 0.0134 - 2s/epoch - 14ms/step\n",
      "Epoch 27/50\n",
      "122/122 - 2s - loss: 0.0145 - val_loss: 0.0134 - 2s/epoch - 13ms/step\n",
      "Epoch 28/50\n",
      "122/122 - 2s - loss: 0.0145 - val_loss: 0.0136 - 2s/epoch - 14ms/step\n",
      "Epoch 29/50\n",
      "122/122 - 2s - loss: 0.0145 - val_loss: 0.0135 - 2s/epoch - 13ms/step\n",
      "Epoch 30/50\n",
      "122/122 - 2s - loss: 0.0144 - val_loss: 0.0135 - 2s/epoch - 13ms/step\n",
      "Epoch 31/50\n",
      "122/122 - 2s - loss: 0.0144 - val_loss: 0.0134 - 2s/epoch - 14ms/step\n",
      "Epoch 32/50\n",
      "122/122 - 2s - loss: 0.0145 - val_loss: 0.0134 - 2s/epoch - 13ms/step\n",
      "Epoch 33/50\n",
      "122/122 - 2s - loss: 0.0144 - val_loss: 0.0134 - 2s/epoch - 14ms/step\n",
      "Epoch 34/50\n",
      "122/122 - 2s - loss: 0.0144 - val_loss: 0.0136 - 2s/epoch - 12ms/step\n",
      "Epoch 35/50\n",
      "122/122 - 2s - loss: 0.0143 - val_loss: 0.0138 - 2s/epoch - 15ms/step\n",
      "Epoch 36/50\n",
      "122/122 - 2s - loss: 0.0144 - val_loss: 0.0137 - 2s/epoch - 13ms/step\n",
      "Epoch 37/50\n",
      "122/122 - 2s - loss: 0.0143 - val_loss: 0.0136 - 2s/epoch - 14ms/step\n",
      "Epoch 38/50\n",
      "122/122 - 2s - loss: 0.0143 - val_loss: 0.0136 - 2s/epoch - 14ms/step\n",
      "Epoch 39/50\n",
      "122/122 - 2s - loss: 0.0143 - val_loss: 0.0138 - 2s/epoch - 14ms/step\n",
      "Epoch 40/50\n",
      "122/122 - 2s - loss: 0.0143 - val_loss: 0.0137 - 2s/epoch - 15ms/step\n",
      "Epoch 41/50\n",
      "122/122 - 2s - loss: 0.0143 - val_loss: 0.0136 - 2s/epoch - 13ms/step\n",
      "Epoch 42/50\n",
      "122/122 - 2s - loss: 0.0144 - val_loss: 0.0136 - 2s/epoch - 14ms/step\n",
      "Epoch 43/50\n",
      "122/122 - 2s - loss: 0.0143 - val_loss: 0.0135 - 2s/epoch - 15ms/step\n",
      "Epoch 44/50\n",
      "122/122 - 2s - loss: 0.0144 - val_loss: 0.0135 - 2s/epoch - 15ms/step\n",
      "Epoch 45/50\n",
      "122/122 - 2s - loss: 0.0143 - val_loss: 0.0135 - 2s/epoch - 19ms/step\n",
      "Epoch 46/50\n",
      "122/122 - 2s - loss: 0.0143 - val_loss: 0.0136 - 2s/epoch - 20ms/step\n",
      "Epoch 47/50\n",
      "122/122 - 3s - loss: 0.0143 - val_loss: 0.0136 - 3s/epoch - 24ms/step\n",
      "Epoch 48/50\n",
      "122/122 - 3s - loss: 0.0143 - val_loss: 0.0135 - 3s/epoch - 23ms/step\n",
      "Epoch 49/50\n",
      "122/122 - 2s - loss: 0.0143 - val_loss: 0.0135 - 2s/epoch - 17ms/step\n",
      "Epoch 50/50\n",
      "122/122 - 1s - loss: 0.0144 - val_loss: 0.0135 - 1s/epoch - 12ms/step\n"
     ]
    },
    {
     "data": {
      "image/png": "[encoded data removed]",
      "text/plain": [
       "<Figure size 432x288 with 1 Axes>"
      ]
     },
     "metadata": {
      "needs_background": "light"
     },
     "output_type": "display_data"
    },
    {
     "name": "stdout",
     "output_type": "stream",
     "text": [
      "Test RMSE: 26.470\n"
     ]
    }
   ],
   "source": [
    "from math import sqrt\n",
    "from numpy import concatenate\n",
    "from matplotlib import pyplot\n",
    "from pandas import read_csv\n",
    "from pandas import DataFrame\n",
    "from pandas import concat\n",
    "from sklearn.preprocessing import MinMaxScaler\n",
    "from sklearn.preprocessing import LabelEncoder\n",
    "from sklearn.metrics import mean_squared_error\n",
    "from keras.models import Sequential\n",
    "from keras.layers import Dense\n",
    "from keras.layers import LSTM\n",
    " \n",
    "# convert series to supervised learning\n",
    "def series_to_supervised(data, n_in=1, n_out=1, dropnan=True):\n",
    "    n_vars = 1 if type(data) is list else data.shape[1]\n",
    "    df = DataFrame(data)\n",
    "    cols, names = list(), list()\n",
    "    # input sequence (t-n, ... t-1)\n",
    "    for i in range(n_in, 0, -1):\n",
    "        cols.append(df.shift(i))\n",
    "        names += [('var%d(t-%d)' % (j+1, i)) for j in range(n_vars)]\n",
    "    # forecast sequence (t, t+1, ... t+n)\n",
    "    for i in range(0, n_out):\n",
    "        cols.append(df.shift(-i))\n",
    "        if i == 0:\n",
    "            names += [('var%d(t)' % (j+1)) for j in range(n_vars)]\n",
    "        else:\n",
    "            names += [('var%d(t+%d)' % (j+1, i)) for j in range(n_vars)]\n",
    "    # put it all together\n",
    "    agg = concat(cols, axis=1)\n",
    "    agg.columns = names\n",
    "    # drop rows with NaN values\n",
    "    if dropnan:\n",
    "        agg.dropna(inplace=True)\n",
    "    return agg\n",
    " \n",
    "# load dataset\n",
    "dataset = read_csv('pollution.csv', header=0, index_col=0)\n",
    "values = dataset.values\n",
    "# integer encode direction\n",
    "encoder = LabelEncoder()\n",
    "values[:,4] = encoder.fit_transform(values[:,4])\n",
    "# ensure all data is float\n",
    "values = values.astype('float32')\n",
    "# normalize features\n",
    "scaler = MinMaxScaler(feature_range=(0, 1))\n",
    "scaled = scaler.fit_transform(values)\n",
    "# frame as supervised learning\n",
    "reframed = series_to_supervised(scaled, 1, 1)\n",
    "# drop columns we don't want to predict\n",
    "reframed.drop(reframed.columns[[9,10,11,12,13,14,15]], axis=1, inplace=True)\n",
    "print(reframed.head())\n",
    " \n",
    "# split into train and test sets\n",
    "values = reframed.values\n",
    "n_train_hours = 365 * 24\n",
    "train = values[:n_train_hours, :]\n",
    "test = values[n_train_hours:, :]\n",
    "# split into input and outputs\n",
    "train_X, train_y = train[:, :-1], train[:, -1]\n",
    "test_X, test_y = test[:, :-1], test[:, -1]\n",
    "# reshape input to be 3D [samples, timesteps, features]\n",
    "train_X = train_X.reshape((train_X.shape[0], 1, train_X.shape[1]))\n",
    "test_X = test_X.reshape((test_X.shape[0], 1, test_X.shape[1]))\n",
    "print(train_X.shape, train_y.shape, test_X.shape, test_y.shape)\n",
    " \n",
    "# design network\n",
    "model = Sequential()\n",
    "model.add(LSTM(50, input_shape=(train_X.shape[1], train_X.shape[2])))\n",
    "model.add(Dense(1))\n",
    "model.compile(loss='mae', optimizer='adam')\n",
    "# fit network\n",
    "history = model.fit(train_X, train_y, epochs=50, batch_size=72, validation_data=(test_X, test_y), verbose=2, shuffle=False)\n",
    "# plot history\n",
    "pyplot.plot(history.history['loss'], label='train')\n",
    "pyplot.plot(history.history['val_loss'], label='test')\n",
    "pyplot.legend()\n",
    "pyplot.show()\n",
    " \n",
    "# make a prediction\n",
    "yhat = model.predict(test_X)\n",
    "test_X = test_X.reshape((test_X.shape[0], test_X.shape[2]))\n",
    "# invert scaling for forecast\n",
    "inv_yhat = concatenate((yhat, test_X[:, 1:]), axis=1)\n",
    "inv_yhat = scaler.inverse_transform(inv_yhat)\n",
    "inv_yhat = inv_yhat[:,0]\n",
    "# invert scaling for actual\n",
    "test_y = test_y.reshape((len(test_y), 1))\n",
    "inv_y = concatenate((test_y, test_X[:, 1:]), axis=1)\n",
    "inv_y = scaler.inverse_transform(inv_y)\n",
    "inv_y = inv_y[:,0]\n",
    "# calculate RMSE\n",
    "rmse = sqrt(mean_squared_error(inv_y, inv_yhat))\n",
    "print('Test RMSE: %.3f' % rmse)"
   ]
  }
 ],
 "metadata": {
  "kernelspec": {
   "display_name": "Python 3.8.8 ('base')",
   "language": "python",
   "name": "python3"
  },
  "language_info": {
   "codemirror_mode": {
    "name": "ipython",
    "version": 3
   },
   "file_extension": ".py",
   "mimetype": "text/x-python",
   "name": "python",
   "nbconvert_exporter": "python",
   "pygments_lexer": "ipython3",
   "version": "3.8.8"
  },
  "orig_nbformat": 4,
  "vscode": {
   "interpreter": {
    "hash": "5179d32cf6ec497baf3f8a3ef987cc77c5d2dc691fdde20a56316522f61a7323"
   }
  }
 },
 "nbformat": 4,
 "nbformat_minor": 2
}
