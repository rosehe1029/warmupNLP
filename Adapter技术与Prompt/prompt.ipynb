{
 "cells": [
  {
   "cell_type": "markdown",
   "metadata": {},
   "source": [
    "Prompt Learning 是指对输入文本信息按照特定模板进行处理，把任务重构成一个更能充分利用预训练语言模型处理的形式。\n",
    "\n",
    "比如我要判断“我喜欢这个电影\" 这句话的情感（“正面\" 或者 “负面”），原有的任务形式是把他看成一个分类问题\n",
    "\n",
    "- 输入：我喜欢这个电影\n",
    "- 输出：“正面\" 或者 \"负面\"\n",
    "\n",
    "    1\n",
    "    2\n",
    "\n",
    "而如果用Prompt Learning去解决的话，任务可以变成“完形填空\"，\n",
    "\n",
    "- 输入：我喜欢这个电影，整体上来看，这是一个 __ 的电影\n",
    "- 输出：“有趣的\" 或者 \"无聊的\"\n",
    "\n",
    "    1\n",
    "    2\n",
    "\n",
    "至此，我们可以看出 fine-tuning 和 prompt 的区别如下：\n",
    "\n",
    "Fine-tuning中：是预训练语言模型“迁就“各种下游任务。 具体体现就是上面提到的通过引入各种辅助任务loss，将其添加到预训练模型中，然后继续pre-training，以便让其更加适配下游任务。总之，这个过程中，预训练语言模型做出了更多的牺牲。\n",
    "\n",
    "Prompting中，是各种下游任务“迁就“预训练语言模型。 具体体现也是上面介绍的，我们需要对不同任务进行重构，使得它达到适配预训练语言模型的效果。总之，这个过程中，是下游任务做出了更多的牺牲。\n",
    "\n",
    "可以看出，两个方法都希望让预训练语言模型和下游任务靠近，只是实现的方式不同而已。\n",
    "https://blog.csdn.net/weixin_43937759/article/details/121159298"
   ]
  },
  {
   "cell_type": "markdown",
   "metadata": {},
   "source": [
    "Prompt 的工作流\n",
    "\n",
    "Prompt 的工作流包含以下4部分：\n",
    "\n",
    "    Prompt 模版（Template）的构造Prompt 答案空间映射（Verbalizer）的构造文本代入template，并且使用预训练语言模型进行预测将预测的结果映射回label。"
   ]
  }
 ],
 "metadata": {
  "kernelspec": {
   "display_name": "Python 3.8.8 ('base')",
   "language": "python",
   "name": "python3"
  },
  "language_info": {
   "name": "python",
   "version": "3.8.8"
  },
  "orig_nbformat": 4,
  "vscode": {
   "interpreter": {
    "hash": "5179d32cf6ec497baf3f8a3ef987cc77c5d2dc691fdde20a56316522f61a7323"
   }
  }
 },
 "nbformat": 4,
 "nbformat_minor": 2
}
